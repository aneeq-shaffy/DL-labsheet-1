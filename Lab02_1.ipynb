{
  "cells": [
    {
      "cell_type": "markdown",
      "metadata": {
        "id": "view-in-github",
        "colab_type": "text"
      },
      "source": [
        "<a href=\"https://colab.research.google.com/github/aneeq-shaffy/DL-labsheets/blob/main/Lab02_1.ipynb\" target=\"_parent\"><img src=\"https://colab.research.google.com/assets/colab-badge.svg\" alt=\"Open In Colab\"/></a>"
      ]
    },
    {
      "cell_type": "code",
      "execution_count": 8,
      "metadata": {
        "colab": {
          "base_uri": "https://localhost:8080/",
          "height": 388
        },
        "id": "ZYQwN0AxkMLT",
        "outputId": "c0583158-9203-48f5-9edb-5543047ee07e"
      },
      "outputs": [
        {
          "output_type": "execute_result",
          "data": {
            "image/png": "[encoded data removed]",
            "text/plain": [
              "<IPython.core.display.Image object>"
            ]
          },
          "metadata": {},
          "execution_count": 8
        }
      ],
      "source": [
        "from IPython.display import Image\n",
        "Image(\"image.png\")"
      ]
    },
    {
      "cell_type": "code",
      "source": [
        "from google.colab import drive\n",
        "drive.mount('/content/drive')"
      ],
      "metadata": {
        "colab": {
          "base_uri": "https://localhost:8080/"
        },
        "id": "t7PbtBl3karY",
        "outputId": "b546a306-0d8e-4460-ff4b-1d1761a6d5bb"
      },
      "execution_count": 9,
      "outputs": [
        {
          "output_type": "stream",
          "name": "stdout",
          "text": [
            "Drive already mounted at /content/drive; to attempt to forcibly remount, call drive.mount(\"/content/drive\", force_remount=True).\n"
          ]
        }
      ]
    },
    {
      "cell_type": "code",
      "execution_count": 10,
      "metadata": {
        "colab": {
          "base_uri": "https://localhost:8080/"
        },
        "id": "zxXDja21kMLV",
        "outputId": "56cb750b-a513-4c0c-8dbb-b1bd852a243c"
      },
      "outputs": [
        {
          "output_type": "stream",
          "name": "stdout",
          "text": [
            "W1 = [[0.1826 0.2304]\n",
            " [0.2705 0.3217]] \n",
            "\n",
            " W2 = [[-1.819  -1.769 ]\n",
            " [ 1.1239  1.1739]] \n",
            "\n",
            " Output = [[0.178  0.8771]] \n",
            " Desired output = [[0.01 0.99]] \n",
            " Error = 0.020492276763740064\n"
          ]
        }
      ],
      "source": [
        "import numpy as np\n",
        "np.set_printoptions(precision=4)\n",
        "\n",
        "def initialize():\n",
        "    X = np.array([[0.05, 0.10]])      # Inputs\n",
        "    W1 = np.array([[0.15,0.20], [0.25,0.30]])      # Weights to calculate outputs for hidden layer 1\n",
        "    b1 = 0.35      # Bias for hidden layer 1\n",
        "    W2 = np.array([[0.40,0.45], [0.50,0.55]])     # Weights to calculate outputs for output layer\n",
        "    b2 = 0.60      # Bias for output layer\n",
        "    Y = np.array([[0.01, 0.99]])      # Desired output\n",
        "    learning_rate = 0.5\n",
        "    no_of_iter = int(100)\n",
        "    return (X, W1, b1, W2, b2, Y, learning_rate, no_of_iter)\n",
        "\n",
        "def forward_pass (X, W1, b1, W2, b2, Y):\n",
        "    ### Forward pass: Calculate hidden layer 1 (there is only 1 hidden layer in this example)\n",
        "    Z1 = np.dot(X,W1.T) + b1      # WtX + b\n",
        "    A1 = 1/(1 + np.exp(-Z1))       # Sigmoid(z) = 1 / (1 + e^(-z))\n",
        "    ### Forward pass: Calculate output layer\n",
        "    Z2 = np.dot(A1,W2.T) + b2      # WtX + b\n",
        "    A2 = 1/(1 + np.exp(-Z2))       # Sigmoid(z) = 1 / (1 + e^(-z))\n",
        "    ### Calculate error/cost function\n",
        "    E = np.sum(1/2*np.square(Y - A2))      # squared error function\n",
        "    return (A1, A2, E)\n",
        "\n",
        "def back_propagation(X, W1, W2, Y, A1, A2, learning_rate):\n",
        "    ### Back propogation\n",
        "    ### Adjust W2\n",
        "    dEdA2 = A2 - Y\n",
        "    dA2dZ2 = np.multiply (A2,1-A2)\n",
        "    dZ2dW2 = A1\n",
        "    dEdW2 = dEdA2 * dA2dZ2 * dZ2dW2\n",
        "    W2_adj = W2 - learning_rate * dEdW2.T\n",
        "    W2 = W2_adj\n",
        "    ### Adjust W1\n",
        "    dZ2dA1 = W2.T\n",
        "    dA1dZ1 = np.multiply(A1,1-A1)\n",
        "    dZ1dW1 = X\n",
        "    dEdW1 = dEdA2 * dA2dZ2 * dZ2dA1 * dA1dZ1 * dZ1dW1\n",
        "    W1_adj = W1 - learning_rate * dEdW1.T\n",
        "    W1 = W1_adj\n",
        "    return (W1, W2)\n",
        "\n",
        "def main():\n",
        "    (X, W1, b1, W2, b2, Y, learning_rate, no_of_iter) = initialize()\n",
        "    for iter in range (0,no_of_iter):\n",
        "        (A1, A2, E) = forward_pass(X, W1, b1, W2, b2, Y)\n",
        "        (W1, W2) = back_propagation(X, W1, W2, Y, A1, A2, learning_rate)\n",
        "    print ('W1 = {} \\n\\n W2 = {} \\n\\n Output = {} \\n Desired output = {} \\n Error = {}'.format(W1, W2, A2, Y, E))\n",
        "\n",
        "main()"
      ]
    },
    {
      "cell_type": "code",
      "source": [
        "import numpy as np\n",
        "np.set_printoptions(precision=4)\n",
        "\n",
        "def initialize():\n",
        "    X = np.array([[0.05, 0.10]])      # Inputs\n",
        "    W1 = np.array([[0.15,0.20], [0.25,0.30]])      # Weights to calculate outputs for hidden layer 1\n",
        "    b1 = 0.35      # Bias for hidden layer 1\n",
        "    W2 = np.array([[0.40,0.45], [0.50,0.55]])     # Weights to calculate outputs for output layer\n",
        "    b2 = 0.60      # Bias for output layer\n",
        "    Y = np.array([[0.01, 0.99]])      # Desired output\n",
        "    learning_rate = 0.5\n",
        "    no_of_iter = int(10000)\n",
        "    return (X, W1, b1, W2, b2, Y, learning_rate, no_of_iter)\n",
        "\n",
        "def forward_pass (X, W1, b1, W2, b2, Y):\n",
        "    ### Forward pass: Calculate hidden layer 1 (there is only 1 hidden layer in this example)\n",
        "    Z1 = np.dot(X,W1.T) + b1      # WtX + b\n",
        "    A1 = 1/(1 + np.exp(-Z1))       # Sigmoid(z) = 1 / (1 + e^(-z))\n",
        "    ### Forward pass: Calculate output layer\n",
        "    Z2 = np.dot(A1,W2.T) + b2      # WtX + b\n",
        "    A2 = 1/(1 + np.exp(-Z2))       # Sigmoid(z) = 1 / (1 + e^(-z))\n",
        "    ### Calculate error/cost function\n",
        "    E = np.sum(1/2*np.square(Y - A2))      # squared error function\n",
        "    return (A1, A2, E)\n",
        "\n",
        "def back_propagation(X, W1, W2, Y, A1, A2, learning_rate):\n",
        "    ### Back propogation\n",
        "    ### Adjust W2\n",
        "    dEdA2 = A2 - Y\n",
        "    dA2dZ2 = np.multiply (A2,1-A2)\n",
        "    dZ2dW2 = A1\n",
        "    dEdW2 = dEdA2 * dA2dZ2 * dZ2dW2\n",
        "    W2_adj = W2 - learning_rate * dEdW2.T\n",
        "    W2 = W2_adj\n",
        "    ### Adjust W1\n",
        "    dZ2dA1 = W2.T\n",
        "    dA1dZ1 = np.multiply(A1,1-A1)\n",
        "    dZ1dW1 = X\n",
        "    dEdW1 = dEdA2 * dA2dZ2 * dZ2dA1 * dA1dZ1 * dZ1dW1\n",
        "    W1_adj = W1 - learning_rate * dEdW1.T\n",
        "    W1 = W1_adj\n",
        "    return (W1, W2)\n",
        "\n",
        "def main():\n",
        "    (X, W1, b1, W2, b2, Y, learning_rate, no_of_iter) = initialize()\n",
        "    for iter in range (0,no_of_iter):\n",
        "        (A1, A2, E) = forward_pass(X, W1, b1, W2, b2, Y)\n",
        "        (W1, W2) = back_propagation(X, W1, W2, Y, A1, A2, learning_rate)\n",
        "    print ('W1 = {} \\n\\n W2 = {} \\n\\n Output = {} \\n Desired output = {} \\n Error = {}'.format(W1, W2, A2, Y, E))\n",
        "\n",
        "main()"
      ],
      "metadata": {
        "colab": {
          "base_uri": "https://localhost:8080/"
        },
        "id": "a015gQY7kw7o",
        "outputId": "2f62307a-7149-41af-e3e4-bdb11836733c"
      },
      "execution_count": 11,
      "outputs": [
        {
          "output_type": "stream",
          "name": "stdout",
          "text": [
            "W1 = [[0.3061 0.3517]\n",
            " [0.4129 0.4677]] \n",
            "\n",
            " W2 = [[-3.9426 -3.8926]\n",
            " [ 2.8963  2.9463]] \n",
            "\n",
            " Output = [[0.0162 0.9839]] \n",
            " Desired output = [[0.01 0.99]] \n",
            " Error = 3.792325126541209e-05\n"
          ]
        }
      ]
    },
    {
      "cell_type": "markdown",
      "source": [],
      "metadata": {
        "id": "OY7GNNxvk2Ss"
      }
    },
    {
      "cell_type": "markdown",
      "metadata": {
        "id": "dd89c7d3"
      },
      "source": [
        "## Conclusion:\n",
        "\n",
        "Based on the comparison of the model's performance with 100 and 10,000 epochs, we can conclude that increasing the number of training iterations (epochs) generally leads to a reduction in the error. As the model is trained for more epochs, it has more opportunities to adjust its weights and biases to better fit the training data, thus minimizing the difference between the predicted output and the desired output.\n",
        "\n",
        "However, it's crucial to be mindful of the potential for **overfitting**. While a lower error on the training data is desirable, a model that is overfitted might not generalize well to new, unseen data. Visualizing the error over epochs can help us identify the point where the model starts to overfit, as the error on a separate validation set might start to increase even if the training error continues to decrease."
      ]
    },
    {
      "cell_type": "markdown",
      "metadata": {
        "id": "e132cdde"
      },
      "source": [
        "## Visualizing the Error over Epochs:\n",
        "\n",
        "To further illustrate the effect of the number of epochs on the error, we can plot the error calculated during each epoch. This will show us how the error decreases over time as the model learns. Since the current code only prints the final error, we need to modify the `main` function to store the error at each iteration and then plot it."
      ]
    },
    {
      "cell_type": "code",
      "metadata": {
        "colab": {
          "base_uri": "https://localhost:8080/"
        },
        "id": "3954a813",
        "outputId": "8744c52e-b1e2-4ea5-b8ae-a0add5f0b215"
      },
      "source": [
        "def initialize():\n",
        "    X = np.array([[0.05, 0.10]])      # Inputs\n",
        "    W1 = np.array([[0.15,0.20], [0.25,0.30]])      # Weights to calculate outputs for hidden layer 1\n",
        "    b1 = 0.35      # Bias for hidden layer 1\n",
        "    W2 = np.array([[0.40,0.45], [0.50,0.55]])     # Weights to calculate outputs for output layer\n",
        "    b2 = 0.60      # Bias for output layer\n",
        "    Y = np.array([[0.01, 0.99]])      # Desired output\n",
        "    learning_rate = 0.5\n",
        "    no_of_iter = int(10000) # Use a higher number of iterations for a clearer plot\n",
        "    return (X, W1, b1, W2, b2, Y, learning_rate, no_of_iter)\n",
        "\n",
        "def forward_pass (X, W1, b1, W2, b2, Y):\n",
        "    ### Forward pass: Calculate hidden layer 1 (there is only 1 hidden layer in this example)\n",
        "    Z1 = np.dot(X,W1.T) + b1      # WtX + b\n",
        "    A1 = 1/(1 + np.exp(-Z1))       # Sigmoid(z) = 1 / (1 + e^(-z))\n",
        "    ### Forward pass: Calculate output layer\n",
        "    Z2 = np.dot(A1,W2.T) + b2      # WtX + b\n",
        "    A2 = 1/(1 + np.exp(-Z2))       # Sigmoid(z) = 1 / (1 + e^(-z))\n",
        "    ### Calculate error/cost function\n",
        "    E = np.sum(1/2*np.square(Y - A2))      # squared error function\n",
        "    return (A1, A2, E)\n",
        "\n",
        "def back_propagation(X, W1, W2, Y, A1, A2, learning_rate):\n",
        "    ### Back propogation\n",
        "    ### Adjust W2\n",
        "    dEdA2 = A2 - Y\n",
        "    dA2dZ2 = np.multiply (A2,1-A2)\n",
        "    dZ2dW2 = A1\n",
        "    dEdW2 = dEdA2 * dA2dZ2 * dZ2dW2\n",
        "    W2_adj = W2 - learning_rate * dEdW2.T\n",
        "    W2 = W2_adj\n",
        "    ### Adjust W1\n",
        "    dZ2dA1 = W2.T\n",
        "    dA1dZ1 = np.multiply(A1,1-A1)\n",
        "    dZ1dW1 = X\n",
        "    dEdW1 = dEdA2 * dA2dZ2 * dZ2dA1 * dA1dZ1 * dZ1dW1\n",
        "    W1_adj = W1 - learning_rate * dEdW1.T\n",
        "    W1 = W1_adj\n",
        "    return (W1, W2)\n",
        "\n",
        "def main_with_error_tracking():\n",
        "    (X, W1, b1, W2, b2, Y, learning_rate, no_of_iter) = initialize()\n",
        "    errors = []  # List to store errors at each iteration\n",
        "    for iter in range (0,no_of_iter):\n",
        "        (A1, A2, E) = forward_pass(X, W1, b1, W2, b2, Y)\n",
        "        (W1, W2) = back_propagation(X, W1, W2, Y, A1, A2, learning_rate)\n",
        "        errors.append(E) # Append the error to the list\n",
        "    print ('W1 = {} \\n\\n W2 = {} \\n\\n Output = {} \\n Desired output = {} \\n Error = {}'.format(W1, W2, A2, Y, E))\n",
        "    return errors # Return the list of errors\n",
        "\n",
        "errors = main_with_error_tracking()"
      ],
      "execution_count": 12,
      "outputs": [
        {
          "output_type": "stream",
          "name": "stdout",
          "text": [
            "W1 = [[0.3061 0.3517]\n",
            " [0.4129 0.4677]] \n",
            "\n",
            " W2 = [[-3.9426 -3.8926]\n",
            " [ 2.8963  2.9463]] \n",
            "\n",
            " Output = [[0.0162 0.9839]] \n",
            " Desired output = [[0.01 0.99]] \n",
            " Error = 3.792325126541209e-05\n"
          ]
        }
      ]
    },
    {
      "cell_type": "code",
      "metadata": {
        "colab": {
          "base_uri": "https://localhost:8080/",
          "height": 472
        },
        "id": "adbf5702",
        "outputId": "93e6217a-5178-4534-8a02-94f8268c808d"
      },
      "source": [
        "import matplotlib.pyplot as plt\n",
        "\n",
        "plt.plot(errors)\n",
        "plt.xlabel(\"Epoch\")\n",
        "plt.ylabel(\"Error\")\n",
        "plt.title(\"Error Reduction over Epochs\")\n",
        "plt.show()"
      ],
      "execution_count": 13,
      "outputs": [
        {
          "output_type": "display_data",
          "data": {
            "text/plain": [
              "<Figure size 640x480 with 1 Axes>"
            ],
            "image/png": "[encoded data removed]"
          },
          "metadata": {}
        }
      ]
    }
  ],
  "metadata": {
    "kernelspec": {
      "display_name": "Python 3",
      "language": "python",
      "name": "python3"
    },
    "language_info": {
      "codemirror_mode": {
        "name": "ipython",
        "version": 3
      },
      "file_extension": ".py",
      "mimetype": "text/x-python",
      "name": "python",
      "nbconvert_exporter": "python",
      "pygments_lexer": "ipython3",
      "version": "3.6.0"
    },
    "colab": {
      "provenance": [],
      "include_colab_link": true
    }
  },
  "nbformat": 4,
  "nbformat_minor": 0
}